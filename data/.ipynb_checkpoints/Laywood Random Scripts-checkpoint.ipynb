{
 "cells": [
  {
   "cell_type": "code",
   "execution_count": 1,
   "metadata": {},
   "outputs": [],
   "source": [
    "import csv\n",
    "import matplotlib.pyplot as plt\n",
    "import numpy as np"
   ]
  },
  {
   "cell_type": "markdown",
   "metadata": {},
   "source": [
    "# Stock Processing"
   ]
  },
  {
   "cell_type": "code",
   "execution_count": 16,
   "metadata": {},
   "outputs": [],
   "source": [
    "def load_csv(csv_path):\n",
    "    with open(csv_path, 'r', newline='') as csv_fh:\n",
    "        headers = csv_fh.readline().strip().split(',')\n",
    "    \n",
    "    data = np.loadtxt(csv_path, delimiter = ',', skiprows = 1, dtype = \"U10, float, float, float, float\")\n",
    "    \n",
    "    return headers, data"
   ]
  },
  {
   "cell_type": "code",
   "execution_count": 53,
   "metadata": {},
   "outputs": [],
   "source": [
    "h, dow = load_csv(\"DOW.csv\")\n",
    "dow = np.flip(d, axis = 0)\n",
    "h, sp = load_csv(\"SP.csv\")\n",
    "dow = np.flip(d, axis = 0)\n",
    "h, nas = load_csv(\"NASDAQ.csv\")\n",
    "dow = np.flip(d, axis = 0)"
   ]
  },
  {
   "cell_type": "code",
   "execution_count": 69,
   "metadata": {},
   "outputs": [],
   "source": [
    "def process_stocks(data):\n",
    "    monthly = []\n",
    "    i = 0\n",
    "    \n",
    "    while (i < data.shape[0]):\n",
    "        chunk = data[i:i + 30]\n",
    "        month = chunk[0][0][:2]\n",
    "        year = chunk[0][0][-2:]\n",
    "        \n",
    "        avgs = [(op + cl)/2 for (date, op, high, low, cl) in chunk if date[:2] == month]\n",
    "        i += len(avgs)\n",
    "        monthly.append([month + \"-\" + year, np.mean(avgs)])\n",
    "        \n",
    "    return monthly"
   ]
  },
  {
   "cell_type": "code",
   "execution_count": 81,
   "metadata": {},
   "outputs": [],
   "source": [
    "with open('NASDAQ_processed.csv', 'w') as csvfile:\n",
    "    csvwriter = csv.writer(csvfile, delimiter=',')\n",
    "    csvwriter.writerows(process_stocks(nas))"
   ]
  },
  {
   "cell_type": "code",
   "execution_count": 82,
   "metadata": {},
   "outputs": [
    {
     "data": {
      "text/plain": [
       "('01-87', 384.22714286)"
      ]
     },
     "execution_count": 82,
     "metadata": {},
     "output_type": "execute_result"
    }
   ],
   "source": [
    "with open('NASDAQ_processed.csv', 'r', newline='') as csv_fh:\n",
    "    headers = csv_fh.readline().strip().split(',')\n",
    "    \n",
    "    data = np.loadtxt('NASDAQ_processed.csv', delimiter = ',', dtype = \"U5, float\")\n",
    "\n",
    "data = np.flip(data, axis = 0)\n",
    "data[0]"
   ]
  },
  {
   "cell_type": "markdown",
   "metadata": {},
   "source": [
    "# Case Shiller"
   ]
  },
  {
   "cell_type": "code",
   "execution_count": 307,
   "metadata": {},
   "outputs": [],
   "source": [
    "city = [\"atlanta\", \"boston\", \"chicago\", \"cleveland\", \"dallas\", \"denver\", \"detroit\", \"la\", \"miami\", \\\n",
    "        \"minneapolis\", \"nyc\", \"phoenix\", \"portland\", \"sf\", \"seattle\", \"tampa\", \"dc\"]\n",
    "\n",
    "dates = [\"01-91\", \"01-90\", \"01-90\", \"01-90\", \"01-00\", \"01-90\", \"01-91\", \"01-90\", \"01-90\", \"01-90\", \"01-87\", \\\n",
    "        \"01-02\", \"01-90\", \"01-90\", \"01-90\", \"01-90\", \"11-96\"]"
   ]
  },
  {
   "cell_type": "code",
   "execution_count": 319,
   "metadata": {},
   "outputs": [],
   "source": [
    "def load_case(cities, starts):\n",
    "    result = []\n",
    "    \n",
    "    for i in range(len(cities)):\n",
    "        csv_path = \"Case Shiller/\" + cities[i] + \"_case_shiller.csv\"\n",
    "        data = np.loadtxt(csv_path, delimiter = ',', skiprows = 1, dtype = \"U10, float\")\n",
    "    \n",
    "        for j in range(len(data)):\n",
    "            data[j][0] = data[j][0][5:7] + \"-\" + data[j][0][2:4]\n",
    "        \n",
    "        print(check_months(months, data))\n",
    "        ind = 0\n",
    "        while (data[ind][0] != starts[i]):\n",
    "            ind += 1\n",
    "        \n",
    "        data = data[ind:]\n",
    "        data = [[cities[i], date, val] for (date, val) in data]\n",
    "        \n",
    "        result += data\n",
    "    \n",
    "    return result"
   ]
  },
  {
   "cell_type": "code",
   "execution_count": 320,
   "metadata": {},
   "outputs": [
    {
     "name": "stdout",
     "output_type": "stream",
     "text": [
      "True\n",
      "True\n",
      "True\n",
      "True\n",
      "True\n",
      "True\n",
      "True\n",
      "True\n",
      "True\n",
      "True\n",
      "True\n",
      "True\n",
      "True\n",
      "True\n",
      "True\n",
      "True\n",
      "True\n"
     ]
    }
   ],
   "source": [
    "case_shiller_data = load_case(city, dates)"
   ]
  },
  {
   "cell_type": "code",
   "execution_count": 326,
   "metadata": {},
   "outputs": [],
   "source": [
    "with open('Case_Shiller_processed.csv', 'w') as csvfile:\n",
    "    csvwriter = csv.writer(csvfile, delimiter=',')\n",
    "    csvwriter.writerows(case_shiller_data)"
   ]
  },
  {
   "cell_type": "markdown",
   "metadata": {},
   "source": [
    "# Patents"
   ]
  },
  {
   "cell_type": "code",
   "execution_count": 303,
   "metadata": {},
   "outputs": [],
   "source": [
    "def del_day(data):\n",
    "    cdata = [[a, b] for (a, b) in data]\n",
    "    \n",
    "    for j in range(len(cdata)):\n",
    "        cdata[j][0] = cdata[j][0][5:7] + \"-\" + cdata[j][0][2:4]\n",
    "            \n",
    "    return cdata"
   ]
  },
  {
   "cell_type": "code",
   "execution_count": 148,
   "metadata": {},
   "outputs": [],
   "source": [
    "months = [\"01\", \"02\", \"03\", \"04\", \"05\", \"06\", \"07\", \"08\", \"09\", \"10\", \"11\", \"12\"]"
   ]
  },
  {
   "cell_type": "code",
   "execution_count": 217,
   "metadata": {},
   "outputs": [],
   "source": [
    "def check_months(m, arr):\n",
    "    for i in range(len(arr) - 1):\n",
    "        month1 = arr[i][0][:2]\n",
    "        month2 = arr[i + 1][0][:2]\n",
    "        \n",
    "        year1 = int(arr[i][0][-2:])\n",
    "        year2 = int(arr[i + 1][0][-2:])\n",
    "        \n",
    "        ind1 = m.index(month1)\n",
    "        ind2 = m.index(month2)\n",
    "        \n",
    "        if ind1 != 11:\n",
    "            if (ind2 - ind1 != 1):\n",
    "                return False\n",
    "            \n",
    "        else:\n",
    "            if ind2 != 0:\n",
    "                return False\n",
    "            if ((year2 - year1) % 100 != 1):\n",
    "                return False\n",
    "        \n",
    "    return True"
   ]
  },
  {
   "cell_type": "code",
   "execution_count": 231,
   "metadata": {},
   "outputs": [
    {
     "name": "stdout",
     "output_type": "stream",
     "text": [
      "True\n",
      "372 ('2020-12-01', 2)\n",
      "True\n",
      "372 ('2020-12-01', 81)\n"
     ]
    }
   ],
   "source": [
    "result = []\n",
    "\n",
    "for sf in [\"sf1\", \"sf2\"]:\n",
    "    csv_path = \"Patents/\" + sf + \"_patents.csv\"\n",
    "    data = np.loadtxt(csv_path, delimiter = ',', skiprows = 1, dtype = \"U10, U10\")\n",
    "\n",
    "    for i in range(len(data)):\n",
    "        if data[i][1] == \".\":\n",
    "            data[i][1] = \"0\"\n",
    "        \n",
    "    data = [(date, int(float(pat))) for (date, pat) in data]\n",
    "    \n",
    "    ind = 0\n",
    "    while (data[ind][0] != \"1990-01-01\"):\n",
    "        ind += 1\n",
    "        \n",
    "    data = data[ind:]\n",
    "    \n",
    "    cdata = del_day([[x, y] for (x, y) in data])\n",
    "    \n",
    "    print(check_months(months, cdata))\n",
    "    \n",
    "    print(len(data), data[-1])\n",
    "    \n",
    "    result.append(data)"
   ]
  },
  {
   "cell_type": "code",
   "execution_count": 321,
   "metadata": {},
   "outputs": [],
   "source": [
    "def load_pat(cities, starts):\n",
    "    result = []\n",
    "    \n",
    "    for i in range(len(cities)):\n",
    "        csv_path = \"Patents/\" + cities[i] + \"_patents.csv\"\n",
    "        data = np.loadtxt(csv_path, delimiter = ',', skiprows = 1, dtype = \"U10, U10\")\n",
    "        \n",
    "        for k in range(len(data)):\n",
    "            if data[k][1] == \".\":\n",
    "                data[k][1] = \"0\"\n",
    "    \n",
    "        data = [[date, int(float(pat))] for (date, pat) in data]\n",
    "    \n",
    "        for j in range(len(data)):\n",
    "            data[j][0] = data[j][0][5:7] + \"-\" + data[j][0][2:4]\n",
    "        \n",
    "        print(check_months(months, data))\n",
    "        \n",
    "        ind = 0\n",
    "        while (data[ind][0] != starts[i]):\n",
    "            ind += 1\n",
    "        \n",
    "        data = data[ind:]\n",
    "        data = [[cities[i], date, val] for (date, val) in data]\n",
    "        \n",
    "        result += data\n",
    "    \n",
    "    return result"
   ]
  },
  {
   "cell_type": "code",
   "execution_count": 322,
   "metadata": {},
   "outputs": [
    {
     "name": "stdout",
     "output_type": "stream",
     "text": [
      "True\n",
      "True\n",
      "True\n",
      "True\n",
      "True\n",
      "True\n",
      "True\n",
      "True\n",
      "True\n",
      "True\n",
      "True\n",
      "True\n",
      "True\n",
      "True\n",
      "True\n",
      "True\n",
      "True\n"
     ]
    }
   ],
   "source": [
    "full_patents = load_pat(city, dates)"
   ]
  },
  {
   "cell_type": "code",
   "execution_count": 318,
   "metadata": {},
   "outputs": [],
   "source": [
    "with open('Patents_processed.csv', 'w') as csvfile:\n",
    "    csvwriter = csv.writer(csvfile, delimiter=',')\n",
    "    csvwriter.writerows(full_patents)"
   ]
  },
  {
   "cell_type": "markdown",
   "metadata": {},
   "source": [
    "# Population"
   ]
  },
  {
   "cell_type": "code",
   "execution_count": 292,
   "metadata": {},
   "outputs": [],
   "source": [
    "def annual_linear(m, datin):\n",
    "    monthly = []\n",
    "    \n",
    "    for i in range(len(datin) - 1):\n",
    "        year = datin[i][0][:5]\n",
    "        one = datin[i][1]\n",
    "        two = datin[i + 1][1]\n",
    "        \n",
    "        for j in range(len(m)):\n",
    "            date = year + months[j] + \"-01\"\n",
    "            pop = one + (j / len(months)) * (two - one)\n",
    "            \n",
    "            monthly.append((date, pop))\n",
    "        \n",
    "    return monthly"
   ]
  },
  {
   "cell_type": "code",
   "execution_count": 323,
   "metadata": {},
   "outputs": [],
   "source": [
    "def load_pop(cities, starts):\n",
    "    result = []\n",
    "    \n",
    "    for i in range(len(cities)):\n",
    "        csv_path = \"Population/\" + cities[i] + \"_pop.csv\"\n",
    "        data = np.loadtxt(csv_path, delimiter = ',', skiprows = 1, dtype = \"U10, float\")\n",
    "    \n",
    "        data = annual_linear(months, data)\n",
    "    \n",
    "        data = del_day(data)\n",
    "        \n",
    "        print(check_months(months, data))\n",
    "        \n",
    "        ind = 0\n",
    "        while (data[ind][0] != starts[i]):\n",
    "            ind += 1\n",
    "        \n",
    "        data = data[ind:]\n",
    "        data = [[cities[i], date, val] for (date, val) in data]\n",
    "        \n",
    "        result += data\n",
    "    \n",
    "    return result"
   ]
  },
  {
   "cell_type": "code",
   "execution_count": 324,
   "metadata": {},
   "outputs": [
    {
     "name": "stdout",
     "output_type": "stream",
     "text": [
      "True\n",
      "True\n",
      "True\n",
      "True\n",
      "True\n",
      "True\n",
      "True\n",
      "True\n",
      "True\n",
      "True\n",
      "True\n",
      "True\n",
      "True\n",
      "True\n",
      "True\n",
      "True\n",
      "True\n"
     ]
    }
   ],
   "source": [
    "full_pop = load_pop(city, dates)"
   ]
  },
  {
   "cell_type": "code",
   "execution_count": 325,
   "metadata": {},
   "outputs": [],
   "source": [
    "with open('Population_processed.csv', 'w') as csvfile:\n",
    "    csvwriter = csv.writer(csvfile, delimiter=',')\n",
    "    csvwriter.writerows(full_pop)"
   ]
  },
  {
   "cell_type": "markdown",
   "metadata": {},
   "source": [
    "# General Processing"
   ]
  },
  {
   "cell_type": "code",
   "execution_count": 15,
   "metadata": {},
   "outputs": [
    {
     "data": {
      "text/plain": [
       "'\\nCalling fill_gaps(process(csv_path)) should output an array with all of the dates correctly inputted and then\\nwith missing values being -1\\n\\ninterpolate(fill_gaps(process(csv_path))) should output an array with all of the dates correctly inputted and data\\nvalues linearly interpolated\\n'"
      ]
     },
     "execution_count": 15,
     "metadata": {},
     "output_type": "execute_result"
    }
   ],
   "source": [
    "def process(csv_path):\n",
    "    \"\"\"\n",
    "    Takes in a csv_path and correctly outputs an array/python list with each row formatted in the correct\n",
    "    [date, value] manner. Should be able to handle FRED and BLS data.\n",
    "    \"\"\"\n",
    "    \n",
    "    arr = list()\n",
    "    bls = True\n",
    "    \n",
    "    months = [\"Jan\", \"Feb\", \"Mar\", \"Apr\", \"May\", \"Jun\", \"Jul\", \"Aug\", \"Sep\", \"Oct\", \"Nov\", \"Dec\"]\n",
    "    num_months = [\"01-\", \"02-\", \"03-\", \"04-\", \"05-\", \"06-\", \"07-\", \"08-\", \"09-\", \"10-\", \"11-\", \"12-\"]\n",
    "    \n",
    "    with open(csv_path, 'r') as f:\n",
    "        next(f)\n",
    "        for row in f:\n",
    "            row = row.strip().split(',')\n",
    "            new_row = [0, 0]\n",
    "            if (len(row) == 2):\n",
    "                bls = False\n",
    "        \n",
    "            if bls:\n",
    "                if (row[3][-3:] in months):\n",
    "                    new_row[0] = num_months[months.index(row[3][-3:])] + row[1][2:]\n",
    "                elif (row[3][-5:] == \"Half1\"):\n",
    "                    new_row[0] = \"01-\" + row[1][2:]\n",
    "                elif (row[3][-5:] == \"Half2\"):\n",
    "                    new_row[0] = \"07-\" + row[1][2:]\n",
    "                    \n",
    "                new_row[1] = float(row[4])\n",
    "                \n",
    "            else:\n",
    "                new_row[0] = row[0][5:8] + row[0][2:4]\n",
    "            \n",
    "                if (row[1] == \".\"):\n",
    "                    new_row[1] = -1\n",
    "                else:\n",
    "                    new_row[1] = float(row[1])\n",
    "        \n",
    "            arr.append(new_row)\n",
    "    \n",
    "    return arr\n",
    "\n",
    "def check_following(date1, date2):\n",
    "    \"\"\"\n",
    "    Checks if two dates (formatted with our system) are consecutive\n",
    "    \"\"\"\n",
    "    \n",
    "    months = [\"01\", \"02\", \"03\", \"04\", \"05\", \"06\", \"07\", \"08\", \"09\", \"10\", \"11\", \"12\"]\n",
    "    \n",
    "    month1 = date1[:2]\n",
    "    month2 = date2[:2]\n",
    "    year1 = int(date1[3:])\n",
    "    year2 = int(date2[3:])\n",
    "    \n",
    "    ind1 = months.index(month1)\n",
    "    ind2 = months.index(month2)\n",
    "        \n",
    "    if ind1 != 11:\n",
    "        if (ind2 - ind1 != 1 or year1 != year2):\n",
    "            return False\n",
    "            \n",
    "    else:\n",
    "        if ind2 != 0:\n",
    "            return False\n",
    "        if ((year2 - year1) % 100 != 1):\n",
    "            return False\n",
    "        \n",
    "    return True\n",
    "\n",
    "def check_dates(arr):\n",
    "    \"\"\"\n",
    "    Given an array of dates, checks if they are all consecutive\n",
    "    \"\"\"\n",
    "    \n",
    "    for i in range(len(arr) - 1):\n",
    "        if (check_following(arr[i], arr[i + 1]) == False):\n",
    "            return False\n",
    "        \n",
    "    return True\n",
    "\n",
    "def gen_next(date):\n",
    "    \"\"\"\n",
    "    Given a date, it generates what the next date should be\n",
    "    \"\"\"\n",
    "    \n",
    "    months = [\"01\", \"02\", \"03\", \"04\", \"05\", \"06\", \"07\", \"08\", \"09\", \"10\", \"11\", \"12\"]\n",
    "    \n",
    "    month = months.index(date[:2])\n",
    "    year = date[3:]\n",
    "    \n",
    "    if month == 11:\n",
    "        if (int(year) == 99):\n",
    "            following = \"01-00\"\n",
    "            \n",
    "        else:\n",
    "            following = \"01-\" + str(int(year) + 1).zfill(2)\n",
    "        \n",
    "    else:\n",
    "        following = months[month + 1] + \"-\" + year\n",
    "    \n",
    "    return following\n",
    "\n",
    "def fill_gaps(in_arr):\n",
    "    \"\"\"\n",
    "    If given an array with missing dates, fills in the gaps\n",
    "    \"\"\"\n",
    "    \n",
    "    arr = in_arr\n",
    "    \n",
    "    i = 0\n",
    "    while True:\n",
    "        if (i == len(arr) - 1):\n",
    "            break\n",
    "            \n",
    "        if not check_following(arr[i][0], arr[i + 1][0]):\n",
    "            row = [gen_next(arr[i][0]), -1]\n",
    "            arr.insert(i + 1, row)\n",
    "        \n",
    "        i += 1\n",
    "    \n",
    "    return arr\n",
    "\n",
    "def interpolate(in_arr):\n",
    "    arr = in_arr\n",
    "    \n",
    "    i = 0\n",
    "    while True:\n",
    "        if (i == len(arr) - 1):\n",
    "            break\n",
    "            \n",
    "        if (arr[i][1] == -1):\n",
    "            j = 1\n",
    "            while(arr[i + j][1] == -1):\n",
    "                j += 1\n",
    "                \n",
    "            arr[i][1] = arr[i - 1][1] + (arr[i + j][1] - arr[i - 1][1]) / (j + 1)\n",
    "        \n",
    "        i += 1\n",
    "    \n",
    "    return arr\n",
    "\n",
    "\"\"\"\n",
    "Calling fill_gaps(process(csv_path)) should output an array with all of the dates correctly inputted and then\n",
    "with missing values being -1\n",
    "\n",
    "interpolate(fill_gaps(process(csv_path))) should output an array with all of the dates correctly inputted and data\n",
    "values linearly interpolated\n",
    "\"\"\""
   ]
  },
  {
   "cell_type": "code",
   "execution_count": 14,
   "metadata": {},
   "outputs": [
    {
     "data": {
      "text/plain": [
       "[<matplotlib.lines.Line2D at 0x113c161f0>]"
      ]
     },
     "execution_count": 14,
     "metadata": {},
     "output_type": "execute_result"
    },
    {
     "data": {
      "image/png": "[encoded data removed]",
      "text/plain": [
       "<Figure size 864x360 with 1 Axes>"
      ]
     },
     "metadata": {
      "needs_background": "light"
     },
     "output_type": "display_data"
    }
   ],
   "source": [
    "test = interpolate(fill_gaps(process(\"medical_care/denver_medical_semi.csv\")))\n",
    "\n",
    "plt.figure(figsize = (12, 5))\n",
    "plt.plot(list(range(len(test))), [row[1] for row in test])"
   ]
  },
  {
   "cell_type": "code",
   "execution_count": null,
   "metadata": {},
   "outputs": [],
   "source": []
  }
 ],
 "metadata": {
  "kernelspec": {
   "display_name": "Python 3",
   "language": "python",
   "name": "python3"
  },
  "language_info": {
   "codemirror_mode": {
    "name": "ipython",
    "version": 3
   },
   "file_extension": ".py",
   "mimetype": "text/x-python",
   "name": "python",
   "nbconvert_exporter": "python",
   "pygments_lexer": "ipython3",
   "version": "3.9.2"
  }
 },
 "nbformat": 4,
 "nbformat_minor": 4
}
