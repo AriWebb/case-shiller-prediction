{
 "cells": [
  {
   "cell_type": "code",
   "execution_count": 1,
   "metadata": {},
   "outputs": [],
   "source": [
    "import csv\n",
    "import matplotlib.pyplot as plt\n",
    "import numpy as np"
   ]
  },
  {
   "cell_type": "markdown",
   "metadata": {},
   "source": [
    "# Stock Processing"
   ]
  },
  {
   "cell_type": "code",
   "execution_count": 16,
   "metadata": {},
   "outputs": [],
   "source": [
    "def load_csv(csv_path):\n",
    "    with open(csv_path, 'r', newline='') as csv_fh:\n",
    "        headers = csv_fh.readline().strip().split(',')\n",
    "    \n",
    "    data = np.loadtxt(csv_path, delimiter = ',', skiprows = 1, dtype = \"U10, float, float, float, float\")\n",
    "    \n",
    "    return headers, data"
   ]
  },
  {
   "cell_type": "code",
   "execution_count": 53,
   "metadata": {},
   "outputs": [],
   "source": [
    "h, dow = load_csv(\"DOW.csv\")\n",
    "dow = np.flip(d, axis = 0)\n",
    "h, sp = load_csv(\"SP.csv\")\n",
    "dow = np.flip(d, axis = 0)\n",
    "h, nas = load_csv(\"NASDAQ.csv\")\n",
    "dow = np.flip(d, axis = 0)"
   ]
  },
  {
   "cell_type": "code",
   "execution_count": 69,
   "metadata": {},
   "outputs": [],
   "source": [
    "def process_stocks(data):\n",
    "    monthly = []\n",
    "    i = 0\n",
    "    \n",
    "    while (i < data.shape[0]):\n",
    "        chunk = data[i:i + 30]\n",
    "        month = chunk[0][0][:2]\n",
    "        year = chunk[0][0][-2:]\n",
    "        \n",
    "        avgs = [(op + cl)/2 for (date, op, high, low, cl) in chunk if date[:2] == month]\n",
    "        i += len(avgs)\n",
    "        monthly.append([month + \"-\" + year, np.mean(avgs)])\n",
    "        \n",
    "    return monthly"
   ]
  },
  {
   "cell_type": "code",
   "execution_count": 81,
   "metadata": {},
   "outputs": [],
   "source": [
    "with open('NASDAQ_processed.csv', 'w') as csvfile:\n",
    "    csvwriter = csv.writer(csvfile, delimiter=',')\n",
    "    csvwriter.writerows(process_stocks(nas))"
   ]
  },
  {
   "cell_type": "code",
   "execution_count": 82,
   "metadata": {},
   "outputs": [
    {
     "data": {
      "text/plain": [
       "('01-87', 384.22714286)"
      ]
     },
     "execution_count": 82,
     "metadata": {},
     "output_type": "execute_result"
    }
   ],
   "source": [
    "with open('NASDAQ_processed.csv', 'r', newline='') as csv_fh:\n",
    "    headers = csv_fh.readline().strip().split(',')\n",
    "    \n",
    "    data = np.loadtxt('NASDAQ_processed.csv', delimiter = ',', dtype = \"U5, float\")\n",
    "\n",
    "data = np.flip(data, axis = 0)\n",
    "data[0]"
   ]
  },
  {
   "cell_type": "markdown",
   "metadata": {},
   "source": [
    "# Case Shiller"
   ]
  },
  {
   "cell_type": "code",
   "execution_count": 307,
   "metadata": {},
   "outputs": [],
   "source": [
    "city = [\"atlanta\", \"boston\", \"chicago\", \"cleveland\", \"dallas\", \"denver\", \"detroit\", \"la\", \"miami\", \\\n",
    "        \"minneapolis\", \"nyc\", \"phoenix\", \"portland\", \"sf\", \"seattle\", \"tampa\", \"dc\"]\n",
    "\n",
    "dates = [\"01-91\", \"01-90\", \"01-90\", \"01-90\", \"01-00\", \"01-90\", \"01-91\", \"01-90\", \"01-90\", \"01-90\", \"01-87\", \\\n",
    "        \"01-02\", \"01-90\", \"01-90\", \"01-90\", \"01-90\", \"11-96\"]"
   ]
  },
  {
   "cell_type": "code",
   "execution_count": 319,
   "metadata": {},
   "outputs": [],
   "source": [
    "def load_case(cities, starts):\n",
    "    result = []\n",
    "    \n",
    "    for i in range(len(cities)):\n",
    "        csv_path = \"Case Shiller/\" + cities[i] + \"_case_shiller.csv\"\n",
    "        data = np.loadtxt(csv_path, delimiter = ',', skiprows = 1, dtype = \"U10, float\")\n",
    "    \n",
    "        for j in range(len(data)):\n",
    "            data[j][0] = data[j][0][5:7] + \"-\" + data[j][0][2:4]\n",
    "        \n",
    "        print(check_months(months, data))\n",
    "        ind = 0\n",
    "        while (data[ind][0] != starts[i]):\n",
    "            ind += 1\n",
    "        \n",
    "        data = data[ind:]\n",
    "        data = [[cities[i], date, val] for (date, val) in data]\n",
    "        \n",
    "        result += data\n",
    "    \n",
    "    return result"
   ]
  },
  {
   "cell_type": "code",
   "execution_count": 320,
   "metadata": {},
   "outputs": [
    {
     "name": "stdout",
     "output_type": "stream",
     "text": [
      "True\n",
      "True\n",
      "True\n",
      "True\n",
      "True\n",
      "True\n",
      "True\n",
      "True\n",
      "True\n",
      "True\n",
      "True\n",
      "True\n",
      "True\n",
      "True\n",
      "True\n",
      "True\n",
      "True\n"
     ]
    }
   ],
   "source": [
    "case_shiller_data = load_case(city, dates)"
   ]
  },
  {
   "cell_type": "code",
   "execution_count": 326,
   "metadata": {},
   "outputs": [],
   "source": [
    "with open('Case_Shiller_processed.csv', 'w') as csvfile:\n",
    "    csvwriter = csv.writer(csvfile, delimiter=',')\n",
    "    csvwriter.writerows(case_shiller_data)"
   ]
  },
  {
   "cell_type": "markdown",
   "metadata": {},
   "source": [
    "# Patents"
   ]
  },
  {
   "cell_type": "code",
   "execution_count": 303,
   "metadata": {},
   "outputs": [],
   "source": [
    "def del_day(data):\n",
    "    cdata = [[a, b] for (a, b) in data]\n",
    "    \n",
    "    for j in range(len(cdata)):\n",
    "        cdata[j][0] = cdata[j][0][5:7] + \"-\" + cdata[j][0][2:4]\n",
    "            \n",
    "    return cdata"
   ]
  },
  {
   "cell_type": "code",
   "execution_count": 148,
   "metadata": {},
   "outputs": [],
   "source": [
    "months = [\"01\", \"02\", \"03\", \"04\", \"05\", \"06\", \"07\", \"08\", \"09\", \"10\", \"11\", \"12\"]"
   ]
  },
  {
   "cell_type": "code",
   "execution_count": 217,
   "metadata": {},
   "outputs": [],
   "source": [
    "def check_months(m, arr):\n",
    "    for i in range(len(arr) - 1):\n",
    "        month1 = arr[i][0][:2]\n",
    "        month2 = arr[i + 1][0][:2]\n",
    "        \n",
    "        year1 = int(arr[i][0][-2:])\n",
    "        year2 = int(arr[i + 1][0][-2:])\n",
    "        \n",
    "        ind1 = m.index(month1)\n",
    "        ind2 = m.index(month2)\n",
    "        \n",
    "        if ind1 != 11:\n",
    "            if (ind2 - ind1 != 1):\n",
    "                return False\n",
    "            \n",
    "        else:\n",
    "            if ind2 != 0:\n",
    "                return False\n",
    "            if ((year2 - year1) % 100 != 1):\n",
    "                return False\n",
    "        \n",
    "    return True"
   ]
  },
  {
   "cell_type": "code",
   "execution_count": 231,
   "metadata": {},
   "outputs": [
    {
     "name": "stdout",
     "output_type": "stream",
     "text": [
      "True\n",
      "372 ('2020-12-01', 2)\n",
      "True\n",
      "372 ('2020-12-01', 81)\n"
     ]
    }
   ],
   "source": [
    "result = []\n",
    "\n",
    "for sf in [\"sf1\", \"sf2\"]:\n",
    "    csv_path = \"Patents/\" + sf + \"_patents.csv\"\n",
    "    data = np.loadtxt(csv_path, delimiter = ',', skiprows = 1, dtype = \"U10, U10\")\n",
    "\n",
    "    for i in range(len(data)):\n",
    "        if data[i][1] == \".\":\n",
    "            data[i][1] = \"0\"\n",
    "        \n",
    "    data = [(date, int(float(pat))) for (date, pat) in data]\n",
    "    \n",
    "    ind = 0\n",
    "    while (data[ind][0] != \"1990-01-01\"):\n",
    "        ind += 1\n",
    "        \n",
    "    data = data[ind:]\n",
    "    \n",
    "    cdata = del_day([[x, y] for (x, y) in data])\n",
    "    \n",
    "    print(check_months(months, cdata))\n",
    "    \n",
    "    print(len(data), data[-1])\n",
    "    \n",
    "    result.append(data)"
   ]
  },
  {
   "cell_type": "code",
   "execution_count": 321,
   "metadata": {},
   "outputs": [],
   "source": [
    "def load_pat(cities, starts):\n",
    "    result = []\n",
    "    \n",
    "    for i in range(len(cities)):\n",
    "        csv_path = \"Patents/\" + cities[i] + \"_patents.csv\"\n",
    "        data = np.loadtxt(csv_path, delimiter = ',', skiprows = 1, dtype = \"U10, U10\")\n",
    "        \n",
    "        for k in range(len(data)):\n",
    "            if data[k][1] == \".\":\n",
    "                data[k][1] = \"0\"\n",
    "    \n",
    "        data = [[date, int(float(pat))] for (date, pat) in data]\n",
    "    \n",
    "        for j in range(len(data)):\n",
    "            data[j][0] = data[j][0][5:7] + \"-\" + data[j][0][2:4]\n",
    "        \n",
    "        print(check_months(months, data))\n",
    "        \n",
    "        ind = 0\n",
    "        while (data[ind][0] != starts[i]):\n",
    "            ind += 1\n",
    "        \n",
    "        data = data[ind:]\n",
    "        data = [[cities[i], date, val] for (date, val) in data]\n",
    "        \n",
    "        result += data\n",
    "    \n",
    "    return result"
   ]
  },
  {
   "cell_type": "code",
   "execution_count": 322,
   "metadata": {},
   "outputs": [
    {
     "name": "stdout",
     "output_type": "stream",
     "text": [
      "True\n",
      "True\n",
      "True\n",
      "True\n",
      "True\n",
      "True\n",
      "True\n",
      "True\n",
      "True\n",
      "True\n",
      "True\n",
      "True\n",
      "True\n",
      "True\n",
      "True\n",
      "True\n",
      "True\n"
     ]
    }
   ],
   "source": [
    "full_patents = load_pat(city, dates)"
   ]
  },
  {
   "cell_type": "code",
   "execution_count": 318,
   "metadata": {},
   "outputs": [],
   "source": [
    "with open('Patents_processed.csv', 'w') as csvfile:\n",
    "    csvwriter = csv.writer(csvfile, delimiter=',')\n",
    "    csvwriter.writerows(full_patents)"
   ]
  },
  {
   "cell_type": "markdown",
   "metadata": {},
   "source": [
    "# Population"
   ]
  },
  {
   "cell_type": "code",
   "execution_count": 292,
   "metadata": {},
   "outputs": [],
   "source": [
    "def annual_linear(m, datin):\n",
    "    monthly = []\n",
    "    \n",
    "    for i in range(len(datin) - 1):\n",
    "        year = datin[i][0][:5]\n",
    "        one = datin[i][1]\n",
    "        two = datin[i + 1][1]\n",
    "        \n",
    "        for j in range(len(m)):\n",
    "            date = year + months[j] + \"-01\"\n",
    "            pop = one + (j / len(months)) * (two - one)\n",
    "            \n",
    "            monthly.append((date, pop))\n",
    "        \n",
    "    return monthly"
   ]
  },
  {
   "cell_type": "code",
   "execution_count": 323,
   "metadata": {},
   "outputs": [],
   "source": [
    "def load_pop(cities, starts):\n",
    "    result = []\n",
    "    \n",
    "    for i in range(len(cities)):\n",
    "        csv_path = \"Population/\" + cities[i] + \"_pop.csv\"\n",
    "        data = np.loadtxt(csv_path, delimiter = ',', skiprows = 1, dtype = \"U10, float\")\n",
    "    \n",
    "        data = annual_linear(months, data)\n",
    "    \n",
    "        data = del_day(data)\n",
    "        \n",
    "        print(check_months(months, data))\n",
    "        \n",
    "        ind = 0\n",
    "        while (data[ind][0] != starts[i]):\n",
    "            ind += 1\n",
    "        \n",
    "        data = data[ind:]\n",
    "        data = [[cities[i], date, val] for (date, val) in data]\n",
    "        \n",
    "        result += data\n",
    "    \n",
    "    return result"
   ]
  },
  {
   "cell_type": "code",
   "execution_count": 324,
   "metadata": {},
   "outputs": [
    {
     "name": "stdout",
     "output_type": "stream",
     "text": [
      "True\n",
      "True\n",
      "True\n",
      "True\n",
      "True\n",
      "True\n",
      "True\n",
      "True\n",
      "True\n",
      "True\n",
      "True\n",
      "True\n",
      "True\n",
      "True\n",
      "True\n",
      "True\n",
      "True\n"
     ]
    }
   ],
   "source": [
    "full_pop = load_pop(city, dates)"
   ]
  },
  {
   "cell_type": "code",
   "execution_count": 325,
   "metadata": {},
   "outputs": [],
   "source": [
    "with open('Population_processed.csv', 'w') as csvfile:\n",
    "    csvwriter = csv.writer(csvfile, delimiter=',')\n",
    "    csvwriter.writerows(full_pop)"
   ]
  },
  {
   "cell_type": "markdown",
   "metadata": {},
   "source": [
    "# General Processing"
   ]
  },
  {
   "cell_type": "code",
   "execution_count": 15,
   "metadata": {},
   "outputs": [
    {
     "data": {
      "text/plain": [
       "'\\nCalling fill_gaps(process(csv_path)) should output an array with all of the dates correctly inputted and then\\nwith missing values being -1\\n\\ninterpolate(fill_gaps(process(csv_path))) should output an array with all of the dates correctly inputted and data\\nvalues linearly interpolated\\n'"
      ]
     },
     "execution_count": 15,
     "metadata": {},
     "output_type": "execute_result"
    }
   ],
   "source": [
    "def process(csv_path):\n",
    "    \"\"\"\n",
    "    Takes in a csv_path and correctly outputs an array/python list with each row formatted in the correct\n",
    "    [date, value] manner. Should be able to handle FRED and BLS data.\n",
    "    \"\"\"\n",
    "    \n",
    "    arr = list()\n",
    "    bls = True\n",
    "    \n",
    "    months = [\"Jan\", \"Feb\", \"Mar\", \"Apr\", \"May\", \"Jun\", \"Jul\", \"Aug\", \"Sep\", \"Oct\", \"Nov\", \"Dec\"]\n",
    "    num_months = [\"01-\", \"02-\", \"03-\", \"04-\", \"05-\", \"06-\", \"07-\", \"08-\", \"09-\", \"10-\", \"11-\", \"12-\"]\n",
    "    \n",
    "    with open(csv_path, 'r') as f:\n",
    "        next(f)\n",
    "        for row in f:\n",
    "            row = row.strip().split(',')\n",
    "            new_row = [0, 0]\n",
    "            if (len(row) == 2):\n",
    "                bls = False\n",
    "        \n",
    "            if bls:\n",
    "                if (row[3][-3:] in months):\n",
    "                    new_row[0] = num_months[months.index(row[3][-3:])] + row[1][2:]\n",
    "                elif (row[3][-5:] == \"Half1\"):\n",
    "                    new_row[0] = \"01-\" + row[1][2:]\n",
    "                elif (row[3][-5:] == \"Half2\"):\n",
    "                    new_row[0] = \"07-\" + row[1][2:]\n",
    "                    \n",
    "                new_row[1] = float(row[4])\n",
    "                \n",
    "            else:\n",
    "                new_row[0] = row[0][5:8] + row[0][2:4]\n",
    "            \n",
    "                if (row[1] == \".\"):\n",
    "                    new_row[1] = -1\n",
    "                else:\n",
    "                    new_row[1] = float(row[1])\n",
    "        \n",
    "            arr.append(new_row)\n",
    "    \n",
    "    return arr\n",
    "\n",
    "def check_following(date1, date2):\n",
    "    \"\"\"\n",
    "    Checks if two dates (formatted with our system) are consecutive\n",
    "    \"\"\"\n",
    "    \n",
    "    months = [\"01\", \"02\", \"03\", \"04\", \"05\", \"06\", \"07\", \"08\", \"09\", \"10\", \"11\", \"12\"]\n",
    "    \n",
    "    month1 = date1[:2]\n",
    "    month2 = date2[:2]\n",
    "    year1 = int(date1[3:])\n",
    "    year2 = int(date2[3:])\n",
    "    \n",
    "    ind1 = months.index(month1)\n",
    "    ind2 = months.index(month2)\n",
    "        \n",
    "    if ind1 != 11:\n",
    "        if (ind2 - ind1 != 1 or year1 != year2):\n",
    "            return False\n",
    "            \n",
    "    else:\n",
    "        if ind2 != 0:\n",
    "            return False\n",
    "        if ((year2 - year1) % 100 != 1):\n",
    "            return False\n",
    "        \n",
    "    return True\n",
    "\n",
    "def check_dates(arr):\n",
    "    \"\"\"\n",
    "    Given an array of dates, checks if they are all consecutive\n",
    "    \"\"\"\n",
    "    \n",
    "    for i in range(len(arr) - 1):\n",
    "        if (check_following(arr[i], arr[i + 1]) == False):\n",
    "            return False\n",
    "        \n",
    "    return True\n",
    "\n",
    "def gen_next(date):\n",
    "    \"\"\"\n",
    "    Given a date, it generates what the next date should be\n",
    "    \"\"\"\n",
    "    \n",
    "    months = [\"01\", \"02\", \"03\", \"04\", \"05\", \"06\", \"07\", \"08\", \"09\", \"10\", \"11\", \"12\"]\n",
    "    \n",
    "    month = months.index(date[:2])\n",
    "    year = date[3:]\n",
    "    \n",
    "    if month == 11:\n",
    "        if (int(year) == 99):\n",
    "            following = \"01-00\"\n",
    "            \n",
    "        else:\n",
    "            following = \"01-\" + str(int(year) + 1).zfill(2)\n",
    "        \n",
    "    else:\n",
    "        following = months[month + 1] + \"-\" + year\n",
    "    \n",
    "    return following\n",
    "\n",
    "def fill_gaps(in_arr):\n",
    "    \"\"\"\n",
    "    If given an array with missing dates, fills in the gaps\n",
    "    \"\"\"\n",
    "    \n",
    "    arr = in_arr\n",
    "    \n",
    "    i = 0\n",
    "    while True:\n",
    "        if (i == len(arr) - 1):\n",
    "            break\n",
    "            \n",
    "        if not check_following(arr[i][0], arr[i + 1][0]):\n",
    "            row = [gen_next(arr[i][0]), -1]\n",
    "            arr.insert(i + 1, row)\n",
    "        \n",
    "        i += 1\n",
    "    \n",
    "    return arr\n",
    "\n",
    "def interpolate(in_arr):\n",
    "    arr = in_arr\n",
    "    \n",
    "    i = 0\n",
    "    while True:\n",
    "        if (i == len(arr) - 1):\n",
    "            break\n",
    "            \n",
    "        if (arr[i][1] == -1):\n",
    "            j = 1\n",
    "            while(arr[i + j][1] == -1):\n",
    "                j += 1\n",
    "                \n",
    "            arr[i][1] = arr[i - 1][1] + (arr[i + j][1] - arr[i - 1][1]) / (j + 1)\n",
    "        \n",
    "        i += 1\n",
    "    \n",
    "    return arr\n",
    "\n",
    "\"\"\"\n",
    "Calling fill_gaps(process(csv_path)) should output an array with all of the dates correctly inputted and then\n",
    "with missing values being -1\n",
    "\n",
    "interpolate(fill_gaps(process(csv_path))) should output an array with all of the dates correctly inputted and data\n",
    "values linearly interpolated\n",
    "\n",
    "run check_dates([row[0] for row in arr]) to make sure that arr is formatted correctly (at least before interpolating)\n",
    "\"\"\""
   ]
  },
  {
   "cell_type": "code",
   "execution_count": 21,
   "metadata": {},
   "outputs": [
    {
     "data": {
      "text/plain": [
       "[<matplotlib.lines.Line2D at 0x113cf33a0>]"
      ]
     },
     "execution_count": 21,
     "metadata": {},
     "output_type": "execute_result"
    },
    {
     "data": {
      "image/png": "[encoded data removed]",
      "text/plain": [
       "<Figure size 432x288 with 1 Axes>"
      ]
     },
     "metadata": {
      "needs_background": "light"
     },
     "output_type": "display_data"
    }
   ],
   "source": [
    "test = interpolate(fill_gaps(process(\"medical_care/sf_medical_bi_and_monthly.csv\")))\n",
    "\n",
    "plt.plot(list(range(len(test))), [row[1] for row in test])"
   ]
  },
  {
   "cell_type": "code",
   "execution_count": 23,
   "metadata": {},
   "outputs": [
    {
     "data": {
      "text/plain": [
       "True"
      ]
     },
     "execution_count": 23,
     "metadata": {},
     "output_type": "execute_result"
    }
   ],
   "source": [
    "check_dates([row[0] for row in test])"
   ]
  },
  {
   "cell_type": "code",
   "execution_count": 27,
   "metadata": {},
   "outputs": [],
   "source": [
    "med_care = [(\"atlanta_medical_semi.csv\", \"atlanta_medical_bi.csv\"), \"boston_medical_bi.csv\", \"chicago_medical_monthly.csv\",\\\n",
    "            \"cleveland_medical_bi.csv\", \"dallas_medical_bi.csv\", \"dc_medical_bi.csv\", \"denver_medical_semi.csv\",\\\n",
    "            \"detroit_medical_bi_and_semi.csv\", \"la_medical_monthly.csv\", \"miami_medical_bi.csv\",\\\n",
    "            \"minneapolis_medical_semi.csv\", \"ny_medical_monthly.csv\", \"phoenix_medical_semi.csv\",\\\n",
    "            \"portland_medical_semi.csv\", (\"seattle_medical_semi.csv\", \"seattle_medical_mostly_bi.csv\"),\\\n",
    "            \"sf_medical_bi_and_monthly.csv\", (\"tampa_medical_annual.csv\", \"tampa_medical_semi.csv\")]\n",
    "\n",
    "motor = [(\"atlanta_motor_semi.csv\", \"atlanta_motor_monthly.csv\"), \"boston_motor_monthly.csv\", \"chicago_motor_monthly.csv\",\\\n",
    "         \"cleveland_motor_monthly.csv\", \"dallas_motor_monthly.csv\", \"dc_motor_monthly.csv\", \"denver_motor_semi.csv\",\\\n",
    "         \"detroit_motor_monthly.csv\", \"la_motor_monthly.csv\", \"miami_motor_monthly.csv\",\\\n",
    "         (\"minneapolis_motor_semi.csv\", \"minneapolis_motor_monthly.csv\"), \"ny_motor_monthly.csv\", \"phoenix_motor_semi.csv\",\\\n",
    "         \"portland_motor_semi.csv\", (\"seattle_motor_semi.csv\", \"seattle_motor_monthly.csv\"), \"sf_motor_monthly.csv\",\\\n",
    "         (\"tampa_motor_annual.csv\", \"tampa_motor_semi.csv\")]\n",
    "\n",
    "income = [\"atlanta_income_annual.csv\", \"boston_income_annual.csv\", \"chicago_income_annual.csv\",\\\n",
    "          \"cleveland_income_annual.csv\", \"dallas_income_annual.csv\", \"dc_income_annual.csv\", \"denver_income_annual.csv\",\\\n",
    "          \"detroit_income_annual.csv\", \"la_income_annual.csv\", \"miami_income_annual.csv\",\\\n",
    "          \"minneapolis_income_annual.csv\", \"nyc_income_annual.csv\", \"phoenix_income_annual.csv\",\\\n",
    "          \"portland_income_annual.csv\", \"seattle_income_annual.csv\", \"sf_income_annual.csv\", \"tampa_income_annual.csv\"]\n",
    "\n",
    "food = [(\"atlanta_food_semi.csv\", \"atlanta_food_bi.csv\"), \"boston_food_bi.csv\", \"chicago_food_monthly.csv\",\\\n",
    "        \"cleveland_food_bi.csv\", \"dallas_food_bi.csv\", \"dc_food_bi.csv\", \"denver_food_semi.csv\", \"detroit_food_bi.csv\",\\\n",
    "        \"la_food_monthly.csv\", \"miami_food_bi.csv\", \"minneapolis_food_semi.csv\", \"ny_food_monthly.csv\",\\\n",
    "        \"phoenix_food_semi.csv\", \"portland_food_semi.csv\", (\"seattle_food_semi.csv\", \"seattle_food_bi.csv\"),\\\n",
    "        \"sf_food_monthly_and_bi.csv\", (\"tampa_food_annual.csv\", \"tampa_food_semi.csv\")]\n",
    "\n",
    "edu = [\"atlanta_edu_monthly.csv\", \"boston_edu_monthly.csv\", \"chicago_edu_monthly.csv\", \"cleveland_edu_monthly.csv\",\\\n",
    "       \"dallas_edu_monthly.csv\", \"dc_edu_monthly.csv\", \"denver_edu_monthly.csv\", \"detroit_edu_monthly.csv\",\\\n",
    "       \"la_edu_monthly.csv\", \"miami_edu_monthly.csv\", \"minneapolis_edu_monthly.csv\", \"ny_edu_monthly.csv\",\\\n",
    "       \"phoenix_edu_monthly.csv\", \"portland_edu_monthly.csv\", \"seattle_edu_monthly.csv\", \"sf_edu_monthly.csv\",\\\n",
    "       \"tampa_edu_monthly.csv\"]"
   ]
  },
  {
   "cell_type": "code",
   "execution_count": 56,
   "metadata": {},
   "outputs": [],
   "source": [
    "def full_csv(folder, files):\n",
    "    arr = []\n",
    "    \n",
    "    for file in files:\n",
    "        if len(file) == 2:\n",
    "            city = file[0][:file[0].index(\"_\")]\n",
    "            temp = process(folder + file[0]) + process(folder + file[1])\n",
    "            data = interpolate(fill_gaps(temp))\n",
    "        else:\n",
    "            city = file[:file.index(\"_\")]\n",
    "            data = interpolate(fill_gaps(process(folder + file)))\n",
    "        \n",
    "        if city == \"ny\":\n",
    "            city = \"nyc\"\n",
    "        \n",
    "        if not check_dates([row[0] for row in data]):\n",
    "            print(\"error with: \" + file)\n",
    "            \n",
    "        arr += [[city, row[0], row[1]] for row in data]\n",
    "            \n",
    "    return arr\n",
    "\n",
    "def check_full(arr):\n",
    "    cities = [\"atlanta\", \"boston\", \"chicago\", \"cleveland\", \"dallas\", \"denver\", \"detroit\", \"la\", \"miami\", \\\n",
    "              \"minneapolis\", \"nyc\", \"phoenix\", \"portland\", \"sf\", \"seattle\", \"tampa\", \"dc\"]\n",
    "\n",
    "    dates = [\"01-91\", \"01-90\", \"01-90\", \"01-90\", \"01-00\", \"01-90\", \"01-91\", \"01-90\", \"01-90\", \"01-90\", \"01-90\", \\\n",
    "             \"01-02\", \"01-90\", \"01-90\", \"01-90\", \"01-90\", \"12-97\"]\n",
    "    \n",
    "    for i in range(len(cities)):\n",
    "        temp = [row[1] for row in arr if row[0] == cities[i]]\n",
    "        \n",
    "        if dates[i] not in temp:\n",
    "            print(\"missing date for: \", cities[i], dates[i])\n",
    "            \n",
    "        if not check_dates(temp):\n",
    "            print(\"dates out of order for: \", cities[i])\n",
    "        \n",
    "    names = [row[0] for row in arr]\n",
    "    \n",
    "    for name in names:\n",
    "        if name not in cities:\n",
    "            print(\"cities name error: \", name)"
   ]
  },
  {
   "cell_type": "code",
   "execution_count": 59,
   "metadata": {},
   "outputs": [],
   "source": [
    "medical = full_csv(\"medical_care/\", med_care)\n",
    "fuel = full_csv(\"motor_fuel/\", motor)\n",
    "inc = full_csv(\"per_capita_income/\", income)\n",
    "food_bev = full_csv(\"food_and_beverages/\", food)\n",
    "ed_health = full_csv(\"education_health_services/\", edu)"
   ]
  },
  {
   "cell_type": "code",
   "execution_count": 60,
   "metadata": {},
   "outputs": [
    {
     "name": "stdout",
     "output_type": "stream",
     "text": [
      "med\n",
      "fuel\n",
      "inc\n",
      "food\n"
     ]
    }
   ],
   "source": [
    "check_full(medical)\n",
    "print(\"med\")\n",
    "check_full(fuel)\n",
    "print(\"fuel\")\n",
    "check_full(inc)\n",
    "print(\"inc\")\n",
    "check_full(food_bev)\n",
    "print(\"food\")\n",
    "check_full(ed_health)"
   ]
  },
  {
   "cell_type": "code",
   "execution_count": 61,
   "metadata": {},
   "outputs": [],
   "source": [
    "with open('Medical_care_processed.csv', 'w') as csvfile:\n",
    "    csvwriter = csv.writer(csvfile, delimiter=',')\n",
    "    csvwriter.writerows(medical)\n",
    "    \n",
    "with open('Motor_fuel_processed.csv', 'w') as csvfile:\n",
    "    csvwriter = csv.writer(csvfile, delimiter=',')\n",
    "    csvwriter.writerows(fuel)\n",
    "    \n",
    "with open('Income_processed.csv', 'w') as csvfile:\n",
    "    csvwriter = csv.writer(csvfile, delimiter=',')\n",
    "    csvwriter.writerows(inc)\n",
    "    \n",
    "with open('Food_and_beverages_processed.csv', 'w') as csvfile:\n",
    "    csvwriter = csv.writer(csvfile, delimiter=',')\n",
    "    csvwriter.writerows(food_bev)\n",
    "    \n",
    "with open('Education_and_health_processed.csv', 'w') as csvfile:\n",
    "    csvwriter = csv.writer(csvfile, delimiter=',')\n",
    "    csvwriter.writerows(ed_health)"
   ]
  },
  {
   "cell_type": "code",
   "execution_count": 62,
   "metadata": {},
   "outputs": [],
   "source": [
    "edu_orig = list()\n",
    "\n",
    "with open(\"Education_and_health_processed.csv\", 'r') as f:\n",
    "    for line in f:\n",
    "        row = line.strip().split(',')\n",
    "        \n",
    "        edu_orig.append([row[0], row[1], float(row[2])])\n",
    "        \n",
    "pop = list()\n",
    "\n",
    "with open(\"Population_processed.csv\", 'r') as f:\n",
    "    for line in f:\n",
    "        row = line.strip().split(',')\n",
    "        \n",
    "        pop.append([row[0], row[1], float(row[2])])"
   ]
  },
  {
   "cell_type": "code",
   "execution_count": 67,
   "metadata": {},
   "outputs": [],
   "source": [
    "cities = [\"atlanta\", \"boston\", \"chicago\", \"cleveland\", \"dallas\", \"denver\", \"detroit\", \"la\", \"miami\", \\\n",
    "              \"minneapolis\", \"nyc\", \"phoenix\", \"portland\", \"sf\", \"seattle\", \"tampa\", \"dc\"]\n",
    "\n",
    "new_edu = list()\n",
    "\n",
    "for city in cities:\n",
    "    city_edu = [row for row in edu_orig if row[0] == city]\n",
    "    city_pop = [row for row in pop if row[0] == city]\n",
    "    pop_dates = [row[1] for row in city_pop]\n",
    "    \n",
    "    for entry in city_edu:\n",
    "        if entry[1] in pop_dates:\n",
    "            ratio = entry[2] / city_pop[pop_dates.index(entry[1])][2]\n",
    "            div_pop = [entry[0], entry[1], ratio]\n",
    "            new_edu.append(div_pop)"
   ]
  },
  {
   "cell_type": "code",
   "execution_count": 71,
   "metadata": {},
   "outputs": [],
   "source": [
    "with open('Education_and_health_RATIO_processed.csv', 'w') as csvfile:\n",
    "    csvwriter = csv.writer(csvfile, delimiter=',')\n",
    "    csvwriter.writerows(new_edu)"
   ]
  },
  {
   "cell_type": "code",
   "execution_count": 72,
   "metadata": {},
   "outputs": [],
   "source": [
    "full_dates = list()\n",
    "\n",
    "date = \"01-80\"\n",
    "\n",
    "while date != \"01-23\":\n",
    "    full_dates.append(date)\n",
    "    date = gen_next(date)"
   ]
  },
  {
   "cell_type": "code",
   "execution_count": 79,
   "metadata": {},
   "outputs": [],
   "source": [
    "with open('Full_dates.csv', 'w') as csvfile:\n",
    "    csvwriter = csv.writer(csvfile)\n",
    "    for row in full_dates:\n",
    "        csvwriter.writerow([row])"
   ]
  },
  {
   "cell_type": "markdown",
   "metadata": {},
   "source": [
    "# CPI Edit"
   ]
  },
  {
   "cell_type": "code",
   "execution_count": 101,
   "metadata": {},
   "outputs": [],
   "source": [
    "cpi = list()\n",
    "\n",
    "with open(\"cpi/cpi.csv\", 'r') as f:\n",
    "    for line in f:\n",
    "        row = line.strip().split(',')\n",
    "        \n",
    "        cpi.append([row[0], row[1], float(row[2])])\n",
    "        \n",
    "for row in cpi:\n",
    "    if row[1][:3] == \"010\":\n",
    "        row[1] = \"10\" + row[1][3:]\n",
    "        \n",
    "    if row[1][:3] == \"011\":\n",
    "        row[1] = \"11\" + row[1][3:]\n",
    "        \n",
    "    if row[1][:3] == \"012\":\n",
    "        row[1] = \"12\" + row[1][3:]"
   ]
  },
  {
   "cell_type": "code",
   "execution_count": 104,
   "metadata": {},
   "outputs": [],
   "source": [
    "with open('cpi.csv', 'w') as csvfile:\n",
    "    csvwriter = csv.writer(csvfile, delimiter=',')\n",
    "    csvwriter.writerows(cpi)"
   ]
  },
  {
   "cell_type": "code",
   "execution_count": 145,
   "metadata": {},
   "outputs": [],
   "source": [
    "cpi = list()\n",
    "\n",
    "with open(\"cpi/cpi.csv\", 'r') as f:\n",
    "    for line in f:\n",
    "        row = line.strip().split(',')\n",
    "        \n",
    "        cpi.append([row[0], row[1], float(row[2])])\n",
    "        \n",
    "sf_cpi = process(\"cpi/sf_monthly.csv\")\n",
    "sf_cpi = [[\"sf\", row[0], row[1]] for row in sf_cpi]\n",
    "cpi += sf_cpi"
   ]
  },
  {
   "cell_type": "code",
   "execution_count": 148,
   "metadata": {},
   "outputs": [],
   "source": [
    "with open('cpi.csv', 'w') as csvfile:\n",
    "    csvwriter = csv.writer(csvfile, delimiter=',')\n",
    "    csvwriter.writerows(cpi)"
   ]
  },
  {
   "cell_type": "markdown",
   "metadata": {},
   "source": [
    "# Combining Data"
   ]
  },
  {
   "cell_type": "code",
   "execution_count": 25,
   "metadata": {},
   "outputs": [],
   "source": [
    "cities = ['atlanta', 'boston', 'chicago', 'cleveland', 'dallas', 'denver', 'detroit', 'la', 'miami',\n",
    "          'minneapolis', 'nyc', 'phoenix', 'portland', 'sf', 'seattle', 'tampa', 'dc']\n",
    "\n",
    "city_files = ['cpi/cpi.csv', 'crime/crime.csv', 'crime/all_property_crime/prop_crime.csv', 'Patents_processed.csv', 'Population_processed.csv',\\\n",
    "              'unemployment_processed.csv', 'Case_Shiller_processed.csv', 'Education_and_health_RATIO_processed.csv',\\\n",
    "              'Medical_care_processed.csv', 'Motor_fuel_processed.csv', 'Income_processed.csv',\\\n",
    "              'Food_and_beverages_processed.csv']\n",
    "\n",
    "labels = [\"city\", \"date\", \"cpi\", \"violent crime\", \"property crime\", \"patents\", \"population\", \"unemployment\", \"case shiller\",\\\n",
    "          \"education and health\", \"medical care\", \"motor fuel\", \"income\", \"food and bev\"]"
   ]
  },
  {
   "cell_type": "code",
   "execution_count": 11,
   "metadata": {},
   "outputs": [],
   "source": [
    "def find_earliest(dataset):\n",
    "    all_dates = list()\n",
    "    \n",
    "    with open(\"Full_dates.csv\", 'r') as f:\n",
    "        cr = csv.reader(f, lineterminator = '\\n')\n",
    "        for line in cr:\n",
    "            all_dates.append(line[0])\n",
    "    \n",
    "    start = \"\"\n",
    "    dates = set([row[1] for row in dataset])\n",
    "    \n",
    "    for date in all_dates:\n",
    "        if date in dates:\n",
    "            start = date\n",
    "            break\n",
    "    \n",
    "    return start\n",
    "\n",
    "def find_latest(dataset):\n",
    "    all_dates = list()\n",
    "    \n",
    "    with open(\"Full_dates.csv\", 'r') as f:\n",
    "        cr = csv.reader(f, lineterminator = '\\n')\n",
    "        for line in cr:\n",
    "            all_dates.append(line[0])\n",
    "    \n",
    "    all_dates = reversed(all_dates)\n",
    "    end = \"\"\n",
    "    dates = set([row[1] for row in dataset])\n",
    "    \n",
    "    for date in all_dates:\n",
    "        if date in dates:\n",
    "            end = date\n",
    "            break\n",
    "    \n",
    "    return end"
   ]
  },
  {
   "cell_type": "code",
   "execution_count": 12,
   "metadata": {},
   "outputs": [],
   "source": [
    "earliest_dates = list()\n",
    "latest_dates = list()\n",
    "\n",
    "for city in cities:\n",
    "    early_dates = list()\n",
    "    late_dates = list()\n",
    "\n",
    "    for file in city_files:\n",
    "        arr = list()\n",
    "        for line in open(file):\n",
    "            row = line.strip().split(',')\n",
    "            if row[0] == city:\n",
    "                arr.append(row)\n",
    "        \n",
    "        early_dates.append([0, find_earliest(arr)])\n",
    "        late_dates.append([0, find_latest(arr)])\n",
    "\n",
    "    earliest_dates.append(find_latest(early_dates))\n",
    "    latest_dates.append(find_earliest(late_dates))"
   ]
  },
  {
   "cell_type": "code",
   "execution_count": 13,
   "metadata": {},
   "outputs": [],
   "source": [
    "dates_list = {}\n",
    "\n",
    "for i in range(len(cities)):\n",
    "    early = earliest_dates[i]\n",
    "    late = latest_dates[i]\n",
    "    \n",
    "    full_dates = list()\n",
    "    \n",
    "    with open(\"Full_dates.csv\", 'r') as f:\n",
    "        cr = csv.reader(f, lineterminator = '\\n')\n",
    "        for line in cr:\n",
    "            full_dates.append(line[0])\n",
    "    \n",
    "    dates_list[cities[i]] = full_dates[full_dates.index(early) : full_dates.index(late) + 1]"
   ]
  },
  {
   "cell_type": "code",
   "execution_count": 15,
   "metadata": {},
   "outputs": [],
   "source": [
    "all_data = {}\n",
    "\n",
    "for city in cities:\n",
    "    all_data[city] = {}\n",
    "    \n",
    "    for date in dates_list[city]:\n",
    "        all_data[city][date] = []\n",
    "        \n",
    "for city in cities:\n",
    "    for file in city_files:\n",
    "        arr = list()\n",
    "        for line in open(file):\n",
    "            row = line.strip().split(',')\n",
    "            if row[0] == city:\n",
    "                arr.append(row)\n",
    "        \n",
    "        for entry in arr:\n",
    "            if entry[1] in all_data[city].keys():\n",
    "                all_data[city][entry[1]] += entry[2:]"
   ]
  },
  {
   "cell_type": "code",
   "execution_count": 20,
   "metadata": {},
   "outputs": [],
   "source": [
    "master_arr = list()\n",
    "\n",
    "for city in cities:\n",
    "    for date in dates_list[city]:\n",
    "        master_arr.append([city, date] + all_data[city][date])"
   ]
  },
  {
   "cell_type": "code",
   "execution_count": 26,
   "metadata": {},
   "outputs": [],
   "source": [
    "with open('FINAL_all_data_city_names.csv', 'w') as csvfile:\n",
    "    csvwriter = csv.writer(csvfile, delimiter=',')\n",
    "    csvwriter.writerow(labels)\n",
    "    csvwriter.writerows(master_arr)"
   ]
  },
  {
   "cell_type": "code",
   "execution_count": 27,
   "metadata": {},
   "outputs": [],
   "source": [
    "one_hot = list()\n",
    "\n",
    "for row in master_arr:\n",
    "    vec = [0] * len(cities)\n",
    "    vec[cities.index(row[0])] = 1\n",
    "    one_hot.append(vec + row[1:])"
   ]
  },
  {
   "cell_type": "code",
   "execution_count": 29,
   "metadata": {},
   "outputs": [],
   "source": [
    "with open('FINAL_all_data_one_hot.csv', 'w') as csvfile:\n",
    "    csvwriter = csv.writer(csvfile, delimiter=',')\n",
    "    csvwriter.writerow(cities + labels[1:])\n",
    "    csvwriter.writerows(one_hot)"
   ]
  },
  {
   "cell_type": "code",
   "execution_count": null,
   "metadata": {},
   "outputs": [],
   "source": []
  }
 ],
 "metadata": {
  "kernelspec": {
   "display_name": "Python 3",
   "language": "python",
   "name": "python3"
  },
  "language_info": {
   "codemirror_mode": {
    "name": "ipython",
    "version": 3
   },
   "file_extension": ".py",
   "mimetype": "text/x-python",
   "name": "python",
   "nbconvert_exporter": "python",
   "pygments_lexer": "ipython3",
   "version": "3.9.2"
  }
 },
 "nbformat": 4,
 "nbformat_minor": 4
}
