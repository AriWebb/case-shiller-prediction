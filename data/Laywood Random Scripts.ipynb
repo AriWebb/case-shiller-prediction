{
 "cells": [
  {
   "cell_type": "code",
   "execution_count": 1,
   "metadata": {},
   "outputs": [],
   "source": [
    "import csv\n",
    "import matplotlib.pyplot as plt\n",
    "import numpy as np"
   ]
  },
  {
   "cell_type": "markdown",
   "metadata": {},
   "source": [
    "# Stock Processing"
   ]
  },
  {
   "cell_type": "code",
   "execution_count": 16,
   "metadata": {},
   "outputs": [],
   "source": [
    "def load_csv(csv_path):\n",
    "    with open(csv_path, 'r', newline='') as csv_fh:\n",
    "        headers = csv_fh.readline().strip().split(',')\n",
    "    \n",
    "    data = np.loadtxt(csv_path, delimiter = ',', skiprows = 1, dtype = \"U10, float, float, float, float\")\n",
    "    \n",
    "    return headers, data"
   ]
  },
  {
   "cell_type": "code",
   "execution_count": 53,
   "metadata": {},
   "outputs": [],
   "source": [
    "h, dow = load_csv(\"DOW.csv\")\n",
    "dow = np.flip(d, axis = 0)\n",
    "h, sp = load_csv(\"SP.csv\")\n",
    "dow = np.flip(d, axis = 0)\n",
    "h, nas = load_csv(\"NASDAQ.csv\")\n",
    "dow = np.flip(d, axis = 0)"
   ]
  },
  {
   "cell_type": "code",
   "execution_count": 69,
   "metadata": {},
   "outputs": [],
   "source": [
    "def process_stocks(data):\n",
    "    monthly = []\n",
    "    i = 0\n",
    "    \n",
    "    while (i < data.shape[0]):\n",
    "        chunk = data[i:i + 30]\n",
    "        month = chunk[0][0][:2]\n",
    "        year = chunk[0][0][-2:]\n",
    "        \n",
    "        avgs = [(op + cl)/2 for (date, op, high, low, cl) in chunk if date[:2] == month]\n",
    "        i += len(avgs)\n",
    "        monthly.append([month + \"-\" + year, np.mean(avgs)])\n",
    "        \n",
    "    return monthly"
   ]
  },
  {
   "cell_type": "code",
   "execution_count": 81,
   "metadata": {},
   "outputs": [],
   "source": [
    "with open('NASDAQ_processed.csv', 'w') as csvfile:\n",
    "    csvwriter = csv.writer(csvfile, delimiter=',')\n",
    "    csvwriter.writerows(process_stocks(nas))"
   ]
  },
  {
   "cell_type": "code",
   "execution_count": 82,
   "metadata": {},
   "outputs": [
    {
     "data": {
      "text/plain": [
       "('01-87', 384.22714286)"
      ]
     },
     "execution_count": 82,
     "metadata": {},
     "output_type": "execute_result"
    }
   ],
   "source": [
    "with open('NASDAQ_processed.csv', 'r', newline='') as csv_fh:\n",
    "    headers = csv_fh.readline().strip().split(',')\n",
    "    \n",
    "    data = np.loadtxt('NASDAQ_processed.csv', delimiter = ',', dtype = \"U5, float\")\n",
    "\n",
    "data = np.flip(data, axis = 0)\n",
    "data[0]"
   ]
  },
  {
   "cell_type": "markdown",
   "metadata": {},
   "source": [
    "# Case Shiller"
   ]
  },
  {
   "cell_type": "code",
   "execution_count": 307,
   "metadata": {},
   "outputs": [],
   "source": [
    "city = [\"atlanta\", \"boston\", \"chicago\", \"cleveland\", \"dallas\", \"denver\", \"detroit\", \"la\", \"miami\", \\\n",
    "        \"minneapolis\", \"nyc\", \"phoenix\", \"portland\", \"sf\", \"seattle\", \"tampa\", \"dc\"]\n",
    "\n",
    "dates = [\"01-91\", \"01-90\", \"01-90\", \"01-90\", \"01-00\", \"01-90\", \"01-91\", \"01-90\", \"01-90\", \"01-90\", \"01-87\", \\\n",
    "        \"01-02\", \"01-90\", \"01-90\", \"01-90\", \"01-90\", \"11-96\"]"
   ]
  },
  {
   "cell_type": "code",
   "execution_count": 319,
   "metadata": {},
   "outputs": [],
   "source": [
    "def load_case(cities, starts):\n",
    "    result = []\n",
    "    \n",
    "    for i in range(len(cities)):\n",
    "        csv_path = \"Case Shiller/\" + cities[i] + \"_case_shiller.csv\"\n",
    "        data = np.loadtxt(csv_path, delimiter = ',', skiprows = 1, dtype = \"U10, float\")\n",
    "    \n",
    "        for j in range(len(data)):\n",
    "            data[j][0] = data[j][0][5:7] + \"-\" + data[j][0][2:4]\n",
    "        \n",
    "        print(check_months(months, data))\n",
    "        ind = 0\n",
    "        while (data[ind][0] != starts[i]):\n",
    "            ind += 1\n",
    "        \n",
    "        data = data[ind:]\n",
    "        data = [[cities[i], date, val] for (date, val) in data]\n",
    "        \n",
    "        result += data\n",
    "    \n",
    "    return result"
   ]
  },
  {
   "cell_type": "code",
   "execution_count": 320,
   "metadata": {},
   "outputs": [
    {
     "name": "stdout",
     "output_type": "stream",
     "text": [
      "True\n",
      "True\n",
      "True\n",
      "True\n",
      "True\n",
      "True\n",
      "True\n",
      "True\n",
      "True\n",
      "True\n",
      "True\n",
      "True\n",
      "True\n",
      "True\n",
      "True\n",
      "True\n",
      "True\n"
     ]
    }
   ],
   "source": [
    "case_shiller_data = load_case(city, dates)"
   ]
  },
  {
   "cell_type": "code",
   "execution_count": 326,
   "metadata": {},
   "outputs": [],
   "source": [
    "with open('Case_Shiller_processed.csv', 'w') as csvfile:\n",
    "    csvwriter = csv.writer(csvfile, delimiter=',')\n",
    "    csvwriter.writerows(case_shiller_data)"
   ]
  },
  {
   "cell_type": "markdown",
   "metadata": {},
   "source": [
    "# Patents"
   ]
  },
  {
   "cell_type": "code",
   "execution_count": 303,
   "metadata": {},
   "outputs": [],
   "source": [
    "def del_day(data):\n",
    "    cdata = [[a, b] for (a, b) in data]\n",
    "    \n",
    "    for j in range(len(cdata)):\n",
    "        cdata[j][0] = cdata[j][0][5:7] + \"-\" + cdata[j][0][2:4]\n",
    "            \n",
    "    return cdata"
   ]
  },
  {
   "cell_type": "code",
   "execution_count": 148,
   "metadata": {},
   "outputs": [],
   "source": [
    "months = [\"01\", \"02\", \"03\", \"04\", \"05\", \"06\", \"07\", \"08\", \"09\", \"10\", \"11\", \"12\"]"
   ]
  },
  {
   "cell_type": "code",
   "execution_count": 217,
   "metadata": {},
   "outputs": [],
   "source": [
    "def check_months(m, arr):\n",
    "    for i in range(len(arr) - 1):\n",
    "        month1 = arr[i][0][:2]\n",
    "        month2 = arr[i + 1][0][:2]\n",
    "        \n",
    "        year1 = int(arr[i][0][-2:])\n",
    "        year2 = int(arr[i + 1][0][-2:])\n",
    "        \n",
    "        ind1 = m.index(month1)\n",
    "        ind2 = m.index(month2)\n",
    "        \n",
    "        if ind1 != 11:\n",
    "            if (ind2 - ind1 != 1):\n",
    "                return False\n",
    "            \n",
    "        else:\n",
    "            if ind2 != 0:\n",
    "                return False\n",
    "            if ((year2 - year1) % 100 != 1):\n",
    "                return False\n",
    "        \n",
    "    return True"
   ]
  },
  {
   "cell_type": "code",
   "execution_count": 231,
   "metadata": {},
   "outputs": [
    {
     "name": "stdout",
     "output_type": "stream",
     "text": [
      "True\n",
      "372 ('2020-12-01', 2)\n",
      "True\n",
      "372 ('2020-12-01', 81)\n"
     ]
    }
   ],
   "source": [
    "result = []\n",
    "\n",
    "for sf in [\"sf1\", \"sf2\"]:\n",
    "    csv_path = \"Patents/\" + sf + \"_patents.csv\"\n",
    "    data = np.loadtxt(csv_path, delimiter = ',', skiprows = 1, dtype = \"U10, U10\")\n",
    "\n",
    "    for i in range(len(data)):\n",
    "        if data[i][1] == \".\":\n",
    "            data[i][1] = \"0\"\n",
    "        \n",
    "    data = [(date, int(float(pat))) for (date, pat) in data]\n",
    "    \n",
    "    ind = 0\n",
    "    while (data[ind][0] != \"1990-01-01\"):\n",
    "        ind += 1\n",
    "        \n",
    "    data = data[ind:]\n",
    "    \n",
    "    cdata = del_day([[x, y] for (x, y) in data])\n",
    "    \n",
    "    print(check_months(months, cdata))\n",
    "    \n",
    "    print(len(data), data[-1])\n",
    "    \n",
    "    result.append(data)"
   ]
  },
  {
   "cell_type": "code",
   "execution_count": 321,
   "metadata": {},
   "outputs": [],
   "source": [
    "def load_pat(cities, starts):\n",
    "    result = []\n",
    "    \n",
    "    for i in range(len(cities)):\n",
    "        csv_path = \"Patents/\" + cities[i] + \"_patents.csv\"\n",
    "        data = np.loadtxt(csv_path, delimiter = ',', skiprows = 1, dtype = \"U10, U10\")\n",
    "        \n",
    "        for k in range(len(data)):\n",
    "            if data[k][1] == \".\":\n",
    "                data[k][1] = \"0\"\n",
    "    \n",
    "        data = [[date, int(float(pat))] for (date, pat) in data]\n",
    "    \n",
    "        for j in range(len(data)):\n",
    "            data[j][0] = data[j][0][5:7] + \"-\" + data[j][0][2:4]\n",
    "        \n",
    "        print(check_months(months, data))\n",
    "        \n",
    "        ind = 0\n",
    "        while (data[ind][0] != starts[i]):\n",
    "            ind += 1\n",
    "        \n",
    "        data = data[ind:]\n",
    "        data = [[cities[i], date, val] for (date, val) in data]\n",
    "        \n",
    "        result += data\n",
    "    \n",
    "    return result"
   ]
  },
  {
   "cell_type": "code",
   "execution_count": 322,
   "metadata": {},
   "outputs": [
    {
     "name": "stdout",
     "output_type": "stream",
     "text": [
      "True\n",
      "True\n",
      "True\n",
      "True\n",
      "True\n",
      "True\n",
      "True\n",
      "True\n",
      "True\n",
      "True\n",
      "True\n",
      "True\n",
      "True\n",
      "True\n",
      "True\n",
      "True\n",
      "True\n"
     ]
    }
   ],
   "source": [
    "full_patents = load_pat(city, dates)"
   ]
  },
  {
   "cell_type": "code",
   "execution_count": 318,
   "metadata": {},
   "outputs": [],
   "source": [
    "with open('Patents_processed.csv', 'w') as csvfile:\n",
    "    csvwriter = csv.writer(csvfile, delimiter=',')\n",
    "    csvwriter.writerows(full_patents)"
   ]
  },
  {
   "cell_type": "markdown",
   "metadata": {},
   "source": [
    "# Population"
   ]
  },
  {
   "cell_type": "code",
   "execution_count": 292,
   "metadata": {},
   "outputs": [],
   "source": [
    "def annual_linear(m, datin):\n",
    "    monthly = []\n",
    "    \n",
    "    for i in range(len(datin) - 1):\n",
    "        year = datin[i][0][:5]\n",
    "        one = datin[i][1]\n",
    "        two = datin[i + 1][1]\n",
    "        \n",
    "        for j in range(len(m)):\n",
    "            date = year + months[j] + \"-01\"\n",
    "            pop = one + (j / len(months)) * (two - one)\n",
    "            \n",
    "            monthly.append((date, pop))\n",
    "        \n",
    "    return monthly"
   ]
  },
  {
   "cell_type": "code",
   "execution_count": 323,
   "metadata": {},
   "outputs": [],
   "source": [
    "def load_pop(cities, starts):\n",
    "    result = []\n",
    "    \n",
    "    for i in range(len(cities)):\n",
    "        csv_path = \"Population/\" + cities[i] + \"_pop.csv\"\n",
    "        data = np.loadtxt(csv_path, delimiter = ',', skiprows = 1, dtype = \"U10, float\")\n",
    "    \n",
    "        data = annual_linear(months, data)\n",
    "    \n",
    "        data = del_day(data)\n",
    "        \n",
    "        print(check_months(months, data))\n",
    "        \n",
    "        ind = 0\n",
    "        while (data[ind][0] != starts[i]):\n",
    "            ind += 1\n",
    "        \n",
    "        data = data[ind:]\n",
    "        data = [[cities[i], date, val] for (date, val) in data]\n",
    "        \n",
    "        result += data\n",
    "    \n",
    "    return result"
   ]
  },
  {
   "cell_type": "code",
   "execution_count": 324,
   "metadata": {},
   "outputs": [
    {
     "name": "stdout",
     "output_type": "stream",
     "text": [
      "True\n",
      "True\n",
      "True\n",
      "True\n",
      "True\n",
      "True\n",
      "True\n",
      "True\n",
      "True\n",
      "True\n",
      "True\n",
      "True\n",
      "True\n",
      "True\n",
      "True\n",
      "True\n",
      "True\n"
     ]
    }
   ],
   "source": [
    "full_pop = load_pop(city, dates)"
   ]
  },
  {
   "cell_type": "code",
   "execution_count": 325,
   "metadata": {},
   "outputs": [],
   "source": [
    "with open('Population_processed.csv', 'w') as csvfile:\n",
    "    csvwriter = csv.writer(csvfile, delimiter=',')\n",
    "    csvwriter.writerows(full_pop)"
   ]
  },
  {
   "cell_type": "code",
   "execution_count": null,
   "metadata": {},
   "outputs": [],
   "source": []
  }
 ],
 "metadata": {
  "kernelspec": {
   "display_name": "Python 3",
   "language": "python",
   "name": "python3"
  },
  "language_info": {
   "codemirror_mode": {
    "name": "ipython",
    "version": 3
   },
   "file_extension": ".py",
   "mimetype": "text/x-python",
   "name": "python",
   "nbconvert_exporter": "python",
   "pygments_lexer": "ipython3",
   "version": "3.9.2"
  }
 },
 "nbformat": 4,
 "nbformat_minor": 4
}
