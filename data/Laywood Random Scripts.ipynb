{
 "cells": [
  {
   "cell_type": "code",
   "execution_count": 1,
   "metadata": {},
   "outputs": [],
   "source": [
    "import csv\n",
    "import matplotlib.pyplot as plt\n",
    "import numpy as np"
   ]
  },
  {
   "cell_type": "markdown",
   "metadata": {},
   "source": [
    "# Stock Processing"
   ]
  },
  {
   "cell_type": "code",
   "execution_count": 16,
   "metadata": {},
   "outputs": [],
   "source": [
    "def load_csv(csv_path):\n",
    "    with open(csv_path, 'r', newline='') as csv_fh:\n",
    "        headers = csv_fh.readline().strip().split(',')\n",
    "    \n",
    "    data = np.loadtxt(csv_path, delimiter = ',', skiprows = 1, dtype = \"U10, float, float, float, float\")\n",
    "    \n",
    "    return headers, data"
   ]
  },
  {
   "cell_type": "code",
   "execution_count": 53,
   "metadata": {},
   "outputs": [],
   "source": [
    "h, dow = load_csv(\"DOW.csv\")\n",
    "dow = np.flip(d, axis = 0)\n",
    "h, sp = load_csv(\"SP.csv\")\n",
    "dow = np.flip(d, axis = 0)\n",
    "h, nas = load_csv(\"NASDAQ.csv\")\n",
    "dow = np.flip(d, axis = 0)"
   ]
  },
  {
   "cell_type": "code",
   "execution_count": 69,
   "metadata": {},
   "outputs": [],
   "source": [
    "def process_stocks(data):\n",
    "    monthly = []\n",
    "    i = 0\n",
    "    \n",
    "    while (i < data.shape[0]):\n",
    "        chunk = data[i:i + 30]\n",
    "        month = chunk[0][0][:2]\n",
    "        year = chunk[0][0][-2:]\n",
    "        \n",
    "        avgs = [(op + cl)/2 for (date, op, high, low, cl) in chunk if date[:2] == month]\n",
    "        i += len(avgs)\n",
    "        monthly.append([month + \"-\" + year, np.mean(avgs)])\n",
    "        \n",
    "    return monthly"
   ]
  },
  {
   "cell_type": "code",
   "execution_count": 81,
   "metadata": {},
   "outputs": [],
   "source": [
    "with open('NASDAQ_processed.csv', 'w') as csvfile:\n",
    "    csvwriter = csv.writer(csvfile, delimiter=',')\n",
    "    csvwriter.writerows(process_stocks(nas))"
   ]
  },
  {
   "cell_type": "code",
   "execution_count": 82,
   "metadata": {},
   "outputs": [
    {
     "data": {
      "text/plain": [
       "('01-87', 384.22714286)"
      ]
     },
     "execution_count": 82,
     "metadata": {},
     "output_type": "execute_result"
    }
   ],
   "source": [
    "with open('NASDAQ_processed.csv', 'r', newline='') as csv_fh:\n",
    "    headers = csv_fh.readline().strip().split(',')\n",
    "    \n",
    "    data = np.loadtxt('NASDAQ_processed.csv', delimiter = ',', dtype = \"U5, float\")\n",
    "\n",
    "data = np.flip(data, axis = 0)\n",
    "data[0]"
   ]
  },
  {
   "cell_type": "markdown",
   "metadata": {},
   "source": [
    "# Case Shiller"
   ]
  },
  {
   "cell_type": "code",
   "execution_count": 106,
   "metadata": {},
   "outputs": [],
   "source": [
    "city = [\"atlanta\", \"boston\", \"chicago\", \"cleveland\", \"dallas\", \"denver\", \"detroit\", \"la\", \"miami\", \\\n",
    "        \"minneapolis\", \"nyc\", \"phoenix\", \"portland\", \"sf\", \"seattle\", \"tampa\", \"dc\"]\n",
    "\n",
    "dates = [\"01-91\", \"01-90\", \"01-90\", \"01-90\", \"01-00\", \"01-90\", \"01-91\", \"01-90\", \"01-90\", \"01-90\", \"01-87\", \\\n",
    "        \"01-02\", \"01-90\", \"01-90\", \"01-90\", \"01-90\", \"01-96\"]"
   ]
  },
  {
   "cell_type": "code",
   "execution_count": 136,
   "metadata": {},
   "outputs": [],
   "source": [
    "def load_case(cities, starts):\n",
    "    result = []\n",
    "    \n",
    "    for i in range(len(cities)):\n",
    "        csv_path = \"Case Shiller/\" + cities[i] + \"_case_shiller.csv\"\n",
    "        data = np.loadtxt(csv_path, delimiter = ',', skiprows = 1, dtype = \"U10, float\")\n",
    "    \n",
    "        for j in range(len(data)):\n",
    "            data[j][0] = data[j][0][5:7] + \"-\" + data[j][0][2:4]\n",
    "        \n",
    "        ind = 0\n",
    "        while (data[ind][0] != starts[i]):\n",
    "            ind += 1\n",
    "        \n",
    "        data = data[ind:]\n",
    "        data = [[cities[i], date, val] for (date, val) in data]\n",
    "        \n",
    "        result += data\n",
    "    \n",
    "    return result"
   ]
  },
  {
   "cell_type": "code",
   "execution_count": 143,
   "metadata": {},
   "outputs": [],
   "source": [
    "case_shiller_data = load_case(city, dates)"
   ]
  },
  {
   "cell_type": "code",
   "execution_count": 144,
   "metadata": {},
   "outputs": [],
   "source": [
    "with open('Case_Shiller_processed.csv', 'w') as csvfile:\n",
    "    csvwriter = csv.writer(csvfile, delimiter=',')\n",
    "    csvwriter.writerows(case_shiller_data)"
   ]
  },
  {
   "cell_type": "markdown",
   "metadata": {},
   "source": [
    "# Patents"
   ]
  },
  {
   "cell_type": "code",
   "execution_count": null,
   "metadata": {},
   "outputs": [],
   "source": []
  }
 ],
 "metadata": {
  "kernelspec": {
   "display_name": "Python 3",
   "language": "python",
   "name": "python3"
  },
  "language_info": {
   "codemirror_mode": {
    "name": "ipython",
    "version": 3
   },
   "file_extension": ".py",
   "mimetype": "text/x-python",
   "name": "python",
   "nbconvert_exporter": "python",
   "pygments_lexer": "ipython3",
   "version": "3.9.2"
  }
 },
 "nbformat": 4,
 "nbformat_minor": 4
}
